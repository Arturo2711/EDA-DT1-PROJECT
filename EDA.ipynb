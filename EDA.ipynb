{
 "cells": [
  {
   "cell_type": "markdown",
   "metadata": {},
   "source": [
    "# Exploratory data analysis HUPA-UCM Diabetes \n",
    "<br>  Morales Martinez Arturo \n",
    "<br>  Luis Daniel Moreno Santamaria"
   ]
  },
  {
   "cell_type": "markdown",
   "metadata": {},
   "source": [
    "## Preprocessed Data "
   ]
  },
  {
   "cell_type": "markdown",
   "metadata": {},
   "source": [
    "### Number of rows by patient"
   ]
  },
  {
   "cell_type": "code",
   "execution_count": 1,
   "metadata": {},
   "outputs": [],
   "source": [
    "import os \n",
    "import pandas as pd\n",
    "import matplotlib.pyplot as plt\n",
    "import re\n",
    "from tabulate import tabulate"
   ]
  },
  {
   "cell_type": "markdown",
   "metadata": {},
   "source": [
    "Just to find patient's number"
   ]
  },
  {
   "cell_type": "code",
   "execution_count": 11,
   "metadata": {},
   "outputs": [],
   "source": [
    "def find_number_string(string):\n",
    "    numbers = re.findall(r'\\d+', string)\n",
    "    return numbers"
   ]
  },
  {
   "cell_type": "markdown",
   "metadata": {},
   "source": [
    "The following cell is intended to get a dictionary where each key is the number of patient "
   ]
  },
  {
   "cell_type": "code",
   "execution_count": 12,
   "metadata": {},
   "outputs": [],
   "source": [
    "data_dir = 'HUPA-UCM Diabetes Dataset/Preprocessed'\n",
    "patients = {int(find_number_string(os.path.join(data_dir, filename))[0]) : pd.read_csv(os.path.join(data_dir, filename), sep=';').shape[0]\n",
    "                   for filename in os.listdir(data_dir)}\n",
    "\n",
    "### Just to sort by the amount of rows\n",
    "patients = dict(sorted(patients.items(), key=lambda item: item[1]))"
   ]
  },
  {
   "cell_type": "code",
   "execution_count": 21,
   "metadata": {},
   "outputs": [],
   "source": [
    "rows = [(key, value) for key, value in patients.items()]"
   ]
  },
  {
   "cell_type": "markdown",
   "metadata": {},
   "source": [
    "Now, we have the number of rows by each patient"
   ]
  },
  {
   "cell_type": "code",
   "execution_count": 29,
   "metadata": {},
   "outputs": [
    {
     "name": "stdout",
     "output_type": "stream",
     "text": [
      "0 2290\n",
      "1 2343\n",
      "2 2862\n",
      "3 2902\n",
      "4 2976\n",
      "5 3181\n",
      "6 3184\n",
      "7 3599\n",
      "8 3711\n",
      "9 3770\n",
      "10 3792\n",
      "11 3812\n",
      "12 3829\n",
      "13 3835\n",
      "14 3839\n",
      "15 3857\n",
      "16 3858\n",
      "17 3895\n",
      "18 3919\n",
      "19 4006\n",
      "20 4023\n",
      "21 4096\n",
      "Days average: 10.774861111111111\n"
     ]
    }
   ],
   "source": [
    "table = []\n",
    "sum_days = 0 \n",
    "for i, row in enumerate(rows):\n",
    "    patient_id = row[0]\n",
    "    rowss = row[1]\n",
    "    days = row[1] / 288\n",
    "    if i!=24 and i!=23 and i!=22:\n",
    "        sum_days += days\n",
    "        print(i, rowss)\n",
    "    months = days // 30\n",
    "    years = round(days / 30 / 12, 2)\n",
    "    #table.append([patient_id, rowss, round(days, 1), int(months), years])\n",
    "\n",
    "print(f'Days average: {sum_days/len(rows)}')\n",
    "#print(tabulate(table, headers=[\"Patient\", 'Rows', \"Days\", \"Months\", \"Years\"]))\n"
   ]
  },
  {
   "cell_type": "code",
   "execution_count": 7,
   "metadata": {},
   "outputs": [
    {
     "ename": "TypeError",
     "evalue": "'int' object is not iterable",
     "output_type": "error",
     "traceback": [
      "\u001b[31m---------------------------------------------------------------------------\u001b[39m",
      "\u001b[31mTypeError\u001b[39m                                 Traceback (most recent call last)",
      "\u001b[36mCell\u001b[39m\u001b[36m \u001b[39m\u001b[32mIn[7]\u001b[39m\u001b[32m, line 2\u001b[39m\n\u001b[32m      1\u001b[39m plt.figure(figsize=(\u001b[32m10\u001b[39m, \u001b[32m10\u001b[39m))\n\u001b[32m----> \u001b[39m\u001b[32m2\u001b[39m plt.barh(\u001b[43m[\u001b[49m\u001b[33;43mf\u001b[39;49m\u001b[33;43m'\u001b[39;49m\u001b[33;43mPatient \u001b[39;49m\u001b[38;5;132;43;01m{\u001b[39;49;00m\u001b[43mr\u001b[49m\u001b[43m[\u001b[49m\u001b[32;43m0\u001b[39;49m\u001b[43m]\u001b[49m\u001b[38;5;132;43;01m}\u001b[39;49;00m\u001b[33;43m'\u001b[39;49m\u001b[43m \u001b[49m\u001b[38;5;28;43;01mfor\u001b[39;49;00m\u001b[43m \u001b[49m\u001b[43mr\u001b[49m\u001b[43m \u001b[49m\u001b[38;5;129;43;01min\u001b[39;49;00m\u001b[43m \u001b[49m\u001b[43mrows\u001b[49m\u001b[43m]\u001b[49m, [r[\u001b[32m1\u001b[39m] \u001b[38;5;28;01mfor\u001b[39;00m r \u001b[38;5;129;01min\u001b[39;00m rows])\n\u001b[32m      3\u001b[39m plt.xlabel(\u001b[33m'\u001b[39m\u001b[33mNumber of rows\u001b[39m\u001b[33m'\u001b[39m)\n\u001b[32m      4\u001b[39m plt.ylabel(\u001b[33m'\u001b[39m\u001b[33mPatients\u001b[39m\u001b[33m'\u001b[39m)\n",
      "\u001b[31mTypeError\u001b[39m: 'int' object is not iterable"
     ]
    },
    {
     "data": {
      "text/plain": [
       "<Figure size 1000x1000 with 0 Axes>"
      ]
     },
     "metadata": {},
     "output_type": "display_data"
    }
   ],
   "source": [
    "plt.figure(figsize=(10, 10))\n",
    "plt.barh([f'Patient {r[0]}' for r in rows], [r[1] for r in rows])\n",
    "plt.xlabel('Number of rows')\n",
    "plt.ylabel('Patients')\n",
    "plt.grid(True)\n",
    "plt.title('Number of rows for each patient')\n",
    "plt.savefig('Images/Number_rows_by_patient')"
   ]
  }
 ],
 "metadata": {
  "kernelspec": {
   "display_name": "Python 3",
   "language": "python",
   "name": "python3"
  },
  "language_info": {
   "codemirror_mode": {
    "name": "ipython",
    "version": 3
   },
   "file_extension": ".py",
   "mimetype": "text/x-python",
   "name": "python",
   "nbconvert_exporter": "python",
   "pygments_lexer": "ipython3",
   "version": "3.13.3"
  }
 },
 "nbformat": 4,
 "nbformat_minor": 2
}
