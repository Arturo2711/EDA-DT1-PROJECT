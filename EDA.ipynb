{
 "cells": [
  {
   "cell_type": "markdown",
   "metadata": {},
   "source": [
    "# Exploratory data analysis HUPA-UCM Diabetes \n",
    "<br> Morales Martinez Arturo \n",
    "<br> Luis Daniel Moreno Santamaria"
   ]
  },
  {
   "cell_type": "markdown",
   "metadata": {},
   "source": [
    "# Preprocessed Data "
   ]
  },
  {
   "cell_type": "code",
   "execution_count": 2,
   "metadata": {},
   "outputs": [],
   "source": [
    "import os \n",
    "import pandas as pd\n",
    "import matplotlib.pyplot as plt"
   ]
  },
  {
   "cell_type": "markdown",
   "metadata": {},
   "source": [
    "Check all patients files "
   ]
  },
  {
   "cell_type": "code",
   "execution_count": 3,
   "metadata": {},
   "outputs": [],
   "source": [
    "files = os.listdir('HUPA-UCM Diabetes Dataset/Preprocessed')"
   ]
  },
  {
   "cell_type": "code",
   "execution_count": 4,
   "metadata": {},
   "outputs": [
    {
     "data": {
      "text/plain": [
       "['HUPA0004P.csv',\n",
       " 'HUPA0006P.csv',\n",
       " 'HUPA0007P.csv',\n",
       " 'HUPA0009P.csv',\n",
       " 'HUPA0005P.csv',\n",
       " 'HUPA0011P.csv',\n",
       " 'HUPA0003P.csv',\n",
       " 'HUPA0001P.csv',\n",
       " 'HUPA0010P.csv',\n",
       " 'HUPA0002P.csv',\n",
       " 'HUPA0014P.csv',\n",
       " 'HUPA0015P.csv',\n",
       " 'HUPA0016P.csv',\n",
       " 'HUPA0017P.csv',\n",
       " 'HUPA0018P.csv',\n",
       " 'HUPA0021P.csv',\n",
       " 'HUPA0020P.csv',\n",
       " 'HUPA0024P.csv',\n",
       " 'HUPA0019P.csv',\n",
       " 'HUPA0023P.csv',\n",
       " 'HUPA0022P.csv',\n",
       " 'HUPA0025P.csv',\n",
       " 'HUPA0028P.csv',\n",
       " 'HUPA0026P.csv',\n",
       " 'HUPA0027P.csv']"
      ]
     },
     "execution_count": 4,
     "metadata": {},
     "output_type": "execute_result"
    }
   ],
   "source": [
    "files"
   ]
  }
 ],
 "metadata": {
  "kernelspec": {
   "display_name": "Python 3",
   "language": "python",
   "name": "python3"
  },
  "language_info": {
   "codemirror_mode": {
    "name": "ipython",
    "version": 3
   },
   "file_extension": ".py",
   "mimetype": "text/x-python",
   "name": "python",
   "nbconvert_exporter": "python",
   "pygments_lexer": "ipython3",
   "version": "3.13.0"
  }
 },
 "nbformat": 4,
 "nbformat_minor": 2
}
